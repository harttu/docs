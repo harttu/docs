{
  "nbformat": 4,
  "nbformat_minor": 0,
  "metadata": {
    "colab": {
      "name": "Data_Import_and_preparation.ipynb",
      "provenance": [],
      "authorship_tag": "ABX9TyP8e+SfRmHLjeZFtz6V5o7J",
      "include_colab_link": true
    },
    "kernelspec": {
      "name": "python3",
      "display_name": "Python 3"
    },
    "language_info": {
      "name": "python"
    }
  },
  "cells": [
    {
      "cell_type": "markdown",
      "metadata": {
        "id": "view-in-github",
        "colab_type": "text"
      },
      "source": [
        "<a href=\"https://colab.research.google.com/github/harttu/docs/blob/master/Data_Import_and_preparation.ipynb\" target=\"_parent\"><img src=\"https://colab.research.google.com/assets/colab-badge.svg\" alt=\"Open In Colab\"/></a>"
      ]
    },
    {
      "cell_type": "code",
      "source": [
        "import imageio\n",
        "import torch"
      ],
      "metadata": {
        "id": "SdSwNeixAsat"
      },
      "execution_count": 3,
      "outputs": []
    },
    {
      "cell_type": "markdown",
      "source": [
        "## Bobby"
      ],
      "metadata": {
        "id": "Q84A2ADTl8Sh"
      }
    },
    {
      "cell_type": "code",
      "execution_count": 10,
      "metadata": {
        "id": "ykGVCib8_AaM"
      },
      "outputs": [],
      "source": [
        "!wget -o /dev/null https://raw.githubusercontent.com/deep-learning-with-pytorch/dlwpt-code/master/data/p1ch4/image-dog/bobby.jpg"
      ]
    },
    {
      "cell_type": "code",
      "source": [
        "img_arr = imageio.imread(\"bobby.jpg\")"
      ],
      "metadata": {
        "id": "kBlqrBQvAXqY"
      },
      "execution_count": 4,
      "outputs": []
    },
    {
      "cell_type": "code",
      "source": [
        "img_arr.shape"
      ],
      "metadata": {
        "colab": {
          "base_uri": "https://localhost:8080/"
        },
        "id": "c0q0hNJxBlGy",
        "outputId": "17728c02-620d-4cd3-e032-7d6c0c7cef18"
      },
      "execution_count": 5,
      "outputs": [
        {
          "output_type": "execute_result",
          "data": {
            "text/plain": [
              "(720, 1280, 3)"
            ]
          },
          "metadata": {},
          "execution_count": 5
        }
      ]
    },
    {
      "cell_type": "code",
      "source": [
        "img = torch.from_numpy(img_arr)\n",
        "out = img.permute(2,0,1)"
      ],
      "metadata": {
        "id": "8zjozfHnBtCK"
      },
      "execution_count": 6,
      "outputs": []
    },
    {
      "cell_type": "code",
      "source": [
        "img.shape"
      ],
      "metadata": {
        "colab": {
          "base_uri": "https://localhost:8080/"
        },
        "id": "8mM0HuZxCGG7",
        "outputId": "1a2b7e3d-eb6e-4248-cfe1-f6a96797c6ca"
      },
      "execution_count": 7,
      "outputs": [
        {
          "output_type": "execute_result",
          "data": {
            "text/plain": [
              "torch.Size([720, 1280, 3])"
            ]
          },
          "metadata": {},
          "execution_count": 7
        }
      ]
    },
    {
      "cell_type": "code",
      "source": [
        "out.shape"
      ],
      "metadata": {
        "colab": {
          "base_uri": "https://localhost:8080/"
        },
        "id": "mNwZ4daKB_Nq",
        "outputId": "25af5ffa-5b8c-43a3-dc90-a6e48e35e433"
      },
      "execution_count": 60,
      "outputs": [
        {
          "output_type": "execute_result",
          "data": {
            "text/plain": [
              "torch.Size([3, 720, 1280])"
            ]
          },
          "metadata": {},
          "execution_count": 60
        }
      ]
    },
    {
      "cell_type": "code",
      "source": [
        "!rm *.png"
      ],
      "metadata": {
        "id": "_BkGdQSf985P"
      },
      "execution_count": 61,
      "outputs": []
    },
    {
      "cell_type": "code",
      "source": [
        "!wget -o /dev/null https://raw.githubusercontent.com/deep-learning-with-pytorch/dlwpt-code/master/data/p1ch4/image-cats/cat1.png\n",
        "!wget -o /dev/null https://raw.githubusercontent.com/deep-learning-with-pytorch/dlwpt-code/master/data/p1ch4/image-cats/cat2.png\n",
        "#!wget -o /dev/null https://raw.githubusercontent.com/deep-learning-with-pytorch/dlwpt-code/master/data/p1ch4/image-cats/cat3.png"
      ],
      "metadata": {
        "id": "Muma3vsNFUTA"
      },
      "execution_count": 62,
      "outputs": []
    },
    {
      "cell_type": "code",
      "source": [
        "batch_size = 2\n",
        "batch = torch.zeros(batch_size, 3 , 256, 256, dtype=torch.uint8)"
      ],
      "metadata": {
        "id": "BTUImE2PE4VT"
      },
      "execution_count": 63,
      "outputs": []
    },
    {
      "cell_type": "code",
      "source": [
        "img_arr = imageio.imread('cat1.png')\n",
        "img_t = torch.from_numpy(img_arr)\n",
        "  "
      ],
      "metadata": {
        "id": "lnUz-ujDzGZN"
      },
      "execution_count": 64,
      "outputs": []
    },
    {
      "cell_type": "markdown",
      "source": [
        "Alkuperäinen formaatti: 256 riviä, 256 saraketta, 3 arvoa ( RGB )"
      ],
      "metadata": {
        "id": "SXbHok8oz2a2"
      }
    },
    {
      "cell_type": "code",
      "source": [
        "img_t.shape"
      ],
      "metadata": {
        "colab": {
          "base_uri": "https://localhost:8080/"
        },
        "id": "O17xoUMvzcUT",
        "outputId": "412624de-1fd4-4f8e-cce3-9ed7f7e8feff"
      },
      "execution_count": 65,
      "outputs": [
        {
          "output_type": "execute_result",
          "data": {
            "text/plain": [
              "torch.Size([256, 256, 3])"
            ]
          },
          "metadata": {},
          "execution_count": 65
        }
      ]
    },
    {
      "cell_type": "markdown",
      "source": [
        "permute(2,0,1) <- uusi dimensioiden järjestys. Ekanan viimeinen(2) sitten normaalista 0 ja 1"
      ],
      "metadata": {
        "id": "JS-zJ2ZG0tSe"
      }
    },
    {
      "cell_type": "code",
      "source": [
        "img_t = img_t.permute(2,0,1)"
      ],
      "metadata": {
        "id": "yGNIjA3X0VLu"
      },
      "execution_count": 66,
      "outputs": []
    },
    {
      "cell_type": "code",
      "source": [
        "img_t.shape"
      ],
      "metadata": {
        "colab": {
          "base_uri": "https://localhost:8080/"
        },
        "id": "hJvH3DhU0ZWz",
        "outputId": "54733df7-ff86-4671-ecdb-97ea0de3bf79"
      },
      "execution_count": 67,
      "outputs": [
        {
          "output_type": "execute_result",
          "data": {
            "text/plain": [
              "torch.Size([3, 256, 256])"
            ]
          },
          "metadata": {},
          "execution_count": 67
        }
      ]
    },
    {
      "cell_type": "code",
      "source": [
        "img_t[:3,:,:125].shape #ottaa kaikki kanavat, 256 riviä ja 125 saraketta"
      ],
      "metadata": {
        "colab": {
          "base_uri": "https://localhost:8080/"
        },
        "id": "yFlkm_vGzZsi",
        "outputId": "cd4a30dd-ef43-419b-9017-8f1102426299"
      },
      "execution_count": 68,
      "outputs": [
        {
          "output_type": "execute_result",
          "data": {
            "text/plain": [
              "torch.Size([3, 256, 125])"
            ]
          },
          "metadata": {},
          "execution_count": 68
        }
      ]
    },
    {
      "cell_type": "code",
      "source": [
        "import os\n",
        "data_dir = '.'\n",
        "filenames = [ name for name in os.listdir(data_dir) if os.path.splitext(name)[-1] == '.png' ]\n",
        "\n",
        "for i, filename in enumerate(filenames):\n",
        "  img_arr = imageio.imread(os.path.join(data_dir, filename))\n",
        "  img_t = torch.from_numpy(img_arr)\n",
        "  img_t = img_t.permute(2,0,1)\n",
        "  img_t = img_t[:3] # tiputtaa mahdollisen alpha kanavan pois\n",
        "  batch[i] = img_t"
      ],
      "metadata": {
        "id": "HcTTKtxQFFrP"
      },
      "execution_count": 69,
      "outputs": []
    },
    {
      "cell_type": "code",
      "source": [
        "batch = batch.float()\n",
        "batch /= 256.0"
      ],
      "metadata": {
        "id": "6MAKlaRD5yxm"
      },
      "execution_count": 70,
      "outputs": []
    },
    {
      "cell_type": "code",
      "source": [
        "batch.shape"
      ],
      "metadata": {
        "colab": {
          "base_uri": "https://localhost:8080/"
        },
        "id": "oVf7lP9D6qnG",
        "outputId": "ca6174e9-51fc-4274-ed33-fac7fc43a4cc"
      },
      "execution_count": 71,
      "outputs": [
        {
          "output_type": "execute_result",
          "data": {
            "text/plain": [
              "torch.Size([2, 3, 256, 256])"
            ]
          },
          "metadata": {},
          "execution_count": 71
        }
      ]
    },
    {
      "cell_type": "code",
      "source": [
        "batch[0].shape"
      ],
      "metadata": {
        "colab": {
          "base_uri": "https://localhost:8080/"
        },
        "id": "BkaKYpGA9qPt",
        "outputId": "23931c6e-1504-4fdf-d41c-1ab7dc430f1e"
      },
      "execution_count": 72,
      "outputs": [
        {
          "output_type": "execute_result",
          "data": {
            "text/plain": [
              "torch.Size([3, 256, 256])"
            ]
          },
          "metadata": {},
          "execution_count": 72
        }
      ]
    },
    {
      "cell_type": "code",
      "source": [
        "batch[:,0].shape"
      ],
      "metadata": {
        "colab": {
          "base_uri": "https://localhost:8080/"
        },
        "id": "vli_Y08e9lMa",
        "outputId": "7fab9335-ac5a-45c4-88ae-1d46fd363267"
      },
      "execution_count": 74,
      "outputs": [
        {
          "output_type": "execute_result",
          "data": {
            "text/plain": [
              "torch.Size([2, 256, 256])"
            ]
          },
          "metadata": {},
          "execution_count": 74
        }
      ]
    },
    {
      "cell_type": "code",
      "source": [
        "batch[:,:,0].shape"
      ],
      "metadata": {
        "colab": {
          "base_uri": "https://localhost:8080/"
        },
        "id": "LFHWTrGa67wb",
        "outputId": "7e012677-98e2-464b-c953-b802f67908c7"
      },
      "execution_count": 39,
      "outputs": [
        {
          "output_type": "execute_result",
          "data": {
            "text/plain": [
              "torch.Size([3, 3, 256])"
            ]
          },
          "metadata": {},
          "execution_count": 39
        }
      ]
    },
    {
      "cell_type": "code",
      "source": [
        "n_channels = batch.shape[1]\n",
        "for c in range(n_channels): # jokaiselle kanavalle\n",
        "  mean = torch.mean(batch[:, c])\n",
        "  std = torch.std(batch[:, c])\n",
        "  batch[:,c] = (batch[:, c] - mean) / std"
      ],
      "metadata": {
        "id": "F_BtvFPZ55qK"
      },
      "execution_count": 35,
      "outputs": []
    },
    {
      "cell_type": "markdown",
      "source": [
        "## Wine"
      ],
      "metadata": {
        "id": "mthrfBDL-1Y9"
      }
    },
    {
      "cell_type": "code",
      "source": [
        "!wget -o /dev/null https://raw.githubusercontent.com/deep-learning-with-pytorch/dlwpt-code/master/data/p1ch4/tabular-wine/winequality-white.csv"
      ],
      "metadata": {
        "id": "jfwJdExH_WY7"
      },
      "execution_count": 75,
      "outputs": []
    },
    {
      "cell_type": "code",
      "source": [
        "import csv\n",
        "import numpy as np\n",
        "\n",
        "wine_path = \"winequality-white.csv\"\n",
        "wineq_numpy = np.loadtxt(wine_path, dtype=np.float32,delimiter=';',skiprows=1)\n",
        "wineq_numpy "
      ],
      "metadata": {
        "colab": {
          "base_uri": "https://localhost:8080/"
        },
        "id": "jnSgEnJQ-wUu",
        "outputId": "5405badc-ef3a-4c05-add8-d4b7f6937627"
      },
      "execution_count": 78,
      "outputs": [
        {
          "output_type": "execute_result",
          "data": {
            "text/plain": [
              "array([[ 7.  ,  0.27,  0.36, ...,  0.45,  8.8 ,  6.  ],\n",
              "       [ 6.3 ,  0.3 ,  0.34, ...,  0.49,  9.5 ,  6.  ],\n",
              "       [ 8.1 ,  0.28,  0.4 , ...,  0.44, 10.1 ,  6.  ],\n",
              "       ...,\n",
              "       [ 6.5 ,  0.24,  0.19, ...,  0.46,  9.4 ,  6.  ],\n",
              "       [ 5.5 ,  0.29,  0.3 , ...,  0.38, 12.8 ,  7.  ],\n",
              "       [ 6.  ,  0.21,  0.38, ...,  0.32, 11.8 ,  6.  ]], dtype=float32)"
            ]
          },
          "metadata": {},
          "execution_count": 78
        }
      ]
    },
    {
      "cell_type": "code",
      "source": [
        "col_list = next(csv.reader(open(wine_path), delimiter=';'))\n",
        "wineq_numpy.shape, col_list"
      ],
      "metadata": {
        "colab": {
          "base_uri": "https://localhost:8080/"
        },
        "id": "_SmLbFcr__rn",
        "outputId": "04e96272-ee30-4ebd-a386-30f37f5e022a"
      },
      "execution_count": 80,
      "outputs": [
        {
          "output_type": "execute_result",
          "data": {
            "text/plain": [
              "((4898, 12),\n",
              " ['fixed acidity',\n",
              "  'volatile acidity',\n",
              "  'citric acid',\n",
              "  'residual sugar',\n",
              "  'chlorides',\n",
              "  'free sulfur dioxide',\n",
              "  'total sulfur dioxide',\n",
              "  'density',\n",
              "  'pH',\n",
              "  'sulphates',\n",
              "  'alcohol',\n",
              "  'quality'])"
            ]
          },
          "metadata": {},
          "execution_count": 80
        }
      ]
    },
    {
      "cell_type": "code",
      "source": [
        "wineq = torch.from_numpy(wineq_numpy)\n",
        "wineq.shape, wineq.dtype"
      ],
      "metadata": {
        "colab": {
          "base_uri": "https://localhost:8080/"
        },
        "id": "UYNi7ofEAUV4",
        "outputId": "f06353eb-d15c-48ec-b0ba-81fead4cbd0e"
      },
      "execution_count": 81,
      "outputs": [
        {
          "output_type": "execute_result",
          "data": {
            "text/plain": [
              "(torch.Size([4898, 12]), torch.float32)"
            ]
          },
          "metadata": {},
          "execution_count": 81
        }
      ]
    },
    {
      "cell_type": "code",
      "source": [
        "data = wineq[:,:-1]\n",
        "data, data.shape"
      ],
      "metadata": {
        "colab": {
          "base_uri": "https://localhost:8080/"
        },
        "id": "Y2so8pzyAihD",
        "outputId": "f7b22fc5-bb28-48e8-a08a-a2fc543a0549"
      },
      "execution_count": 82,
      "outputs": [
        {
          "output_type": "execute_result",
          "data": {
            "text/plain": [
              "(tensor([[ 7.0000,  0.2700,  0.3600,  ...,  3.0000,  0.4500,  8.8000],\n",
              "         [ 6.3000,  0.3000,  0.3400,  ...,  3.3000,  0.4900,  9.5000],\n",
              "         [ 8.1000,  0.2800,  0.4000,  ...,  3.2600,  0.4400, 10.1000],\n",
              "         ...,\n",
              "         [ 6.5000,  0.2400,  0.1900,  ...,  2.9900,  0.4600,  9.4000],\n",
              "         [ 5.5000,  0.2900,  0.3000,  ...,  3.3400,  0.3800, 12.8000],\n",
              "         [ 6.0000,  0.2100,  0.3800,  ...,  3.2600,  0.3200, 11.8000]]),\n",
              " torch.Size([4898, 11]))"
            ]
          },
          "metadata": {},
          "execution_count": 82
        }
      ]
    },
    {
      "cell_type": "code",
      "source": [
        "target = wineq[:,-1]\n",
        "target, target.shape"
      ],
      "metadata": {
        "colab": {
          "base_uri": "https://localhost:8080/"
        },
        "id": "EpBFPEAaAr_q",
        "outputId": "d765672a-f888-4acf-849e-d71b528bb5b7"
      },
      "execution_count": 83,
      "outputs": [
        {
          "output_type": "execute_result",
          "data": {
            "text/plain": [
              "(tensor([6., 6., 6.,  ..., 6., 7., 6.]), torch.Size([4898]))"
            ]
          },
          "metadata": {},
          "execution_count": 83
        }
      ]
    },
    {
      "cell_type": "code",
      "source": [
        "target = wineq[:,-1].long()\n",
        "target"
      ],
      "metadata": {
        "colab": {
          "base_uri": "https://localhost:8080/"
        },
        "id": "U68QpVoQA2ov",
        "outputId": "b40471ea-8c2a-4008-efb6-437049331080"
      },
      "execution_count": 84,
      "outputs": [
        {
          "output_type": "execute_result",
          "data": {
            "text/plain": [
              "tensor([6, 6, 6,  ..., 6, 7, 6])"
            ]
          },
          "metadata": {},
          "execution_count": 84
        }
      ]
    },
    {
      "cell_type": "code",
      "source": [
        "target.shape"
      ],
      "metadata": {
        "colab": {
          "base_uri": "https://localhost:8080/"
        },
        "id": "FQLv-C9pMaff",
        "outputId": "29005583-e591-4589-ca85-2764df725797"
      },
      "execution_count": 101,
      "outputs": [
        {
          "output_type": "execute_result",
          "data": {
            "text/plain": [
              "torch.Size([4898])"
            ]
          },
          "metadata": {},
          "execution_count": 101
        }
      ]
    },
    {
      "cell_type": "code",
      "source": [
        "target.unsqueeze(1)"
      ],
      "metadata": {
        "colab": {
          "base_uri": "https://localhost:8080/"
        },
        "id": "2QQkoHFcMQ3Y",
        "outputId": "98bcd630-da85-4ca8-b9af-ea4f9176f4bd"
      },
      "execution_count": 100,
      "outputs": [
        {
          "output_type": "execute_result",
          "data": {
            "text/plain": [
              "tensor([[6],\n",
              "        [6],\n",
              "        [6],\n",
              "        ...,\n",
              "        [6],\n",
              "        [7],\n",
              "        [6]])"
            ]
          },
          "metadata": {},
          "execution_count": 100
        }
      ]
    },
    {
      "cell_type": "code",
      "source": [
        "target_onehot = torch.zeros(target.shape[0],10)\n",
        "target_onehot.shape"
      ],
      "metadata": {
        "colab": {
          "base_uri": "https://localhost:8080/"
        },
        "id": "NNvuZmJTBDQb",
        "outputId": "e9b10b89-f2fa-44f4-8f24-d107a3a88843"
      },
      "execution_count": 88,
      "outputs": [
        {
          "output_type": "execute_result",
          "data": {
            "text/plain": [
              "torch.Size([4898, 10])"
            ]
          },
          "metadata": {},
          "execution_count": 88
        }
      ]
    },
    {
      "cell_type": "code",
      "source": [
        "target_onehot.scatter_(1, target.unsqueeze(1), 1.0 )"
      ],
      "metadata": {
        "colab": {
          "base_uri": "https://localhost:8080/"
        },
        "id": "TVbI7bDCBNBj",
        "outputId": "435e1654-fdfa-425c-ed96-b85578af479e"
      },
      "execution_count": 89,
      "outputs": [
        {
          "output_type": "execute_result",
          "data": {
            "text/plain": [
              "tensor([[0., 0., 0.,  ..., 0., 0., 0.],\n",
              "        [0., 0., 0.,  ..., 0., 0., 0.],\n",
              "        [0., 0., 0.,  ..., 0., 0., 0.],\n",
              "        ...,\n",
              "        [0., 0., 0.,  ..., 0., 0., 0.],\n",
              "        [0., 0., 0.,  ..., 1., 0., 0.],\n",
              "        [0., 0., 0.,  ..., 0., 0., 0.]])"
            ]
          },
          "metadata": {},
          "execution_count": 89
        }
      ]
    },
    {
      "cell_type": "code",
      "source": [
        "x = torch.tensor([1, 2, 3, 4])"
      ],
      "metadata": {
        "id": "0E5UZ5wqBp0Y"
      },
      "execution_count": 90,
      "outputs": []
    },
    {
      "cell_type": "code",
      "source": [
        "src = torch.arange(2, 12).reshape((2, 5))\n",
        "src"
      ],
      "metadata": {
        "colab": {
          "base_uri": "https://localhost:8080/"
        },
        "id": "Wp16vPebN6ns",
        "outputId": "948f4b61-c645-4079-9797-53fdd8f9f3f4"
      },
      "execution_count": 108,
      "outputs": [
        {
          "output_type": "execute_result",
          "data": {
            "text/plain": [
              "tensor([[ 2,  3,  4,  5,  6],\n",
              "        [ 7,  8,  9, 10, 11]])"
            ]
          },
          "metadata": {},
          "execution_count": 108
        }
      ]
    },
    {
      "cell_type": "code",
      "source": [
        "index = torch.tensor([[0, 1, 2, 0]])\n",
        "index"
      ],
      "metadata": {
        "colab": {
          "base_uri": "https://localhost:8080/"
        },
        "id": "lBJEqvXHN9Oj",
        "outputId": "0117c20e-587c-4da6-c7b3-aa40995bcd4d"
      },
      "execution_count": 111,
      "outputs": [
        {
          "output_type": "execute_result",
          "data": {
            "text/plain": [
              "tensor([[0, 1, 2, 0]])"
            ]
          },
          "metadata": {},
          "execution_count": 111
        }
      ]
    },
    {
      "cell_type": "code",
      "source": [
        "torch.zeros(3, 5, dtype=src.dtype).scatter_(0, index, src) # index on että mihin riveille arvoja src:sta laitetaan"
      ],
      "metadata": {
        "colab": {
          "base_uri": "https://localhost:8080/"
        },
        "id": "ukGtYI0oN1Pa",
        "outputId": "545898e1-04f9-40f6-b41b-c187c8e51ed9"
      },
      "execution_count": 112,
      "outputs": [
        {
          "output_type": "execute_result",
          "data": {
            "text/plain": [
              "tensor([[2, 0, 0, 5, 0],\n",
              "        [0, 3, 0, 0, 0],\n",
              "        [0, 0, 4, 0, 0]])"
            ]
          },
          "metadata": {},
          "execution_count": 112
        }
      ]
    },
    {
      "cell_type": "code",
      "source": [
        "torch.zeros(3, 5, dtype=src.dtype).scatter_(1, index, src) # index on että mihin riveille arvoja src:sta laitetaan"
      ],
      "metadata": {
        "colab": {
          "base_uri": "https://localhost:8080/"
        },
        "id": "lQsNCymcPTx_",
        "outputId": "6f5a50df-0af6-4eba-e7b3-3ba8800f3603"
      },
      "execution_count": 113,
      "outputs": [
        {
          "output_type": "execute_result",
          "data": {
            "text/plain": [
              "tensor([[5, 3, 4, 0, 0],\n",
              "        [0, 0, 0, 0, 0],\n",
              "        [0, 0, 0, 0, 0]])"
            ]
          },
          "metadata": {},
          "execution_count": 113
        }
      ]
    },
    {
      "cell_type": "code",
      "source": [
        "index = torch.tensor([[0, 1, 2], [0, 1, 4]])\n",
        "index"
      ],
      "metadata": {
        "colab": {
          "base_uri": "https://localhost:8080/"
        },
        "id": "VzI2aowVTBGd",
        "outputId": "b23701d9-e31d-4ad8-c781-ecc453451825"
      },
      "execution_count": 117,
      "outputs": [
        {
          "output_type": "execute_result",
          "data": {
            "text/plain": [
              "tensor([[0, 1, 2],\n",
              "        [0, 1, 4]])"
            ]
          },
          "metadata": {},
          "execution_count": 117
        }
      ]
    },
    {
      "cell_type": "code",
      "source": [
        "torch.zeros(3, 5, dtype=src.dtype).scatter_(1, index, src) # syöttää tässä järjestyksessä"
      ],
      "metadata": {
        "colab": {
          "base_uri": "https://localhost:8080/"
        },
        "id": "ltzK7OgYTJ6Y",
        "outputId": "31a3fbad-91ac-415a-b8ae-fcc51f83cb2d"
      },
      "execution_count": 118,
      "outputs": [
        {
          "output_type": "execute_result",
          "data": {
            "text/plain": [
              "tensor([[2, 3, 4, 0, 0],\n",
              "        [7, 8, 0, 0, 9],\n",
              "        [0, 0, 0, 0, 0]])"
            ]
          },
          "metadata": {},
          "execution_count": 118
        }
      ]
    },
    {
      "cell_type": "code",
      "source": [
        "x"
      ],
      "metadata": {
        "colab": {
          "base_uri": "https://localhost:8080/"
        },
        "id": "83tdoQRbCQ7P",
        "outputId": "4a3e1db3-7685-4eab-a2c1-1d3c8f95c1d1"
      },
      "execution_count": 92,
      "outputs": [
        {
          "output_type": "execute_result",
          "data": {
            "text/plain": [
              "tensor([1, 2, 3, 4])"
            ]
          },
          "metadata": {},
          "execution_count": 92
        }
      ]
    },
    {
      "cell_type": "code",
      "source": [
        ">>> index = torch.tensor([[0, 1, 2], [0, 1, 4]])\n",
        ">>> torch.zeros(3, 5, dtype=src.dtype).scatter_(1, index, src)"
      ],
      "metadata": {
        "id": "3AB0Or6MPSVF"
      },
      "execution_count": null,
      "outputs": []
    },
    {
      "cell_type": "markdown",
      "source": [
        "### Squeeze\n",
        "\n",
        "Returns a tensor with all the dimensions of input of size 1 removed.\n",
        "\n",
        "For example, if input is of shape: (A×1×B×C×1×D)(A \\times 1 \\times B \\times C \\times 1 \\times D)(A×1×B×C×1×D) then the out tensor will be of shape: (A×B×C×D)(A \\times B \\times C \\times D)(A×B×C×D)."
      ],
      "metadata": {
        "id": "3xt5ZnFLL2QT"
      }
    },
    {
      "cell_type": "code",
      "source": [
        "torch.unsqueeze(x, 0)"
      ],
      "metadata": {
        "colab": {
          "base_uri": "https://localhost:8080/"
        },
        "id": "4iAWHLkgCFT7",
        "outputId": "788ccf0e-b140-4827-def8-6de6b34a4850"
      },
      "execution_count": 91,
      "outputs": [
        {
          "output_type": "execute_result",
          "data": {
            "text/plain": [
              "tensor([[1, 2, 3, 4]])"
            ]
          },
          "metadata": {},
          "execution_count": 91
        }
      ]
    },
    {
      "cell_type": "code",
      "source": [
        "torch.unsqueeze(x, 1)"
      ],
      "metadata": {
        "colab": {
          "base_uri": "https://localhost:8080/"
        },
        "id": "nMzjfP4FCL5-",
        "outputId": "aca4654a-ab3a-4f2e-b598-23f9b87bdd4c"
      },
      "execution_count": 93,
      "outputs": [
        {
          "output_type": "execute_result",
          "data": {
            "text/plain": [
              "tensor([[1],\n",
              "        [2],\n",
              "        [3],\n",
              "        [4]])"
            ]
          },
          "metadata": {},
          "execution_count": 93
        }
      ]
    },
    {
      "cell_type": "code",
      "source": [
        "torch.unsqueeze(x, -1)"
      ],
      "metadata": {
        "colab": {
          "base_uri": "https://localhost:8080/"
        },
        "id": "hgkmkdkWCWug",
        "outputId": "554ac551-9595-4535-8b84-3ed8fceb9fd7"
      },
      "execution_count": 96,
      "outputs": [
        {
          "output_type": "execute_result",
          "data": {
            "text/plain": [
              "tensor([[1],\n",
              "        [2],\n",
              "        [3],\n",
              "        [4]])"
            ]
          },
          "metadata": {},
          "execution_count": 96
        }
      ]
    },
    {
      "cell_type": "code",
      "source": [
        "data_mean = torch.mean(data,dim=0)\n",
        "data_mean"
      ],
      "metadata": {
        "colab": {
          "base_uri": "https://localhost:8080/"
        },
        "id": "bIZd5i9SV4uv",
        "outputId": "7c043863-1a6d-4556-ebda-8b4ce8ad18ab"
      },
      "execution_count": 120,
      "outputs": [
        {
          "output_type": "execute_result",
          "data": {
            "text/plain": [
              "tensor([6.8548e+00, 2.7824e-01, 3.3419e-01, 6.3914e+00, 4.5772e-02, 3.5308e+01,\n",
              "        1.3836e+02, 9.9403e-01, 3.1883e+00, 4.8985e-01, 1.0514e+01])"
            ]
          },
          "metadata": {},
          "execution_count": 120
        }
      ]
    },
    {
      "cell_type": "code",
      "source": [
        "data_var = torch.var(data, dim = 0)\n",
        "data_var"
      ],
      "metadata": {
        "colab": {
          "base_uri": "https://localhost:8080/"
        },
        "id": "ItJvDNvCWAP0",
        "outputId": "dd6b030d-2f47-49a8-d022-78c4ea033da0"
      },
      "execution_count": 122,
      "outputs": [
        {
          "output_type": "execute_result",
          "data": {
            "text/plain": [
              "tensor([7.1211e-01, 1.0160e-02, 1.4646e-02, 2.5726e+01, 4.7733e-04, 2.8924e+02,\n",
              "        1.8061e+03, 8.9455e-06, 2.2801e-02, 1.3025e-02, 1.5144e+00])"
            ]
          },
          "metadata": {},
          "execution_count": 122
        }
      ]
    },
    {
      "cell_type": "code",
      "source": [
        "data_normalized = ( data - data_mean ) / torch.sqrt(data_var)\n",
        "data_normalized"
      ],
      "metadata": {
        "colab": {
          "base_uri": "https://localhost:8080/"
        },
        "id": "slquOT4mWRHd",
        "outputId": "784e5528-c1ed-4f86-b0f3-d147659586c0"
      },
      "execution_count": 124,
      "outputs": [
        {
          "output_type": "execute_result",
          "data": {
            "text/plain": [
              "tensor([[ 1.7208e-01, -8.1761e-02,  2.1326e-01,  ..., -1.2468e+00,\n",
              "         -3.4915e-01, -1.3930e+00],\n",
              "        [-6.5743e-01,  2.1587e-01,  4.7996e-02,  ...,  7.3995e-01,\n",
              "          1.3422e-03, -8.2419e-01],\n",
              "        [ 1.4756e+00,  1.7450e-02,  5.4378e-01,  ...,  4.7505e-01,\n",
              "         -4.3677e-01, -3.3663e-01],\n",
              "        ...,\n",
              "        [-4.2043e-01, -3.7940e-01, -1.1915e+00,  ..., -1.3130e+00,\n",
              "         -2.6153e-01, -9.0545e-01],\n",
              "        [-1.6054e+00,  1.1666e-01, -2.8253e-01,  ...,  1.0049e+00,\n",
              "         -9.6251e-01,  1.8574e+00],\n",
              "        [-1.0129e+00, -6.7703e-01,  3.7852e-01,  ...,  4.7505e-01,\n",
              "         -1.4882e+00,  1.0448e+00]])"
            ]
          },
          "metadata": {},
          "execution_count": 124
        }
      ]
    },
    {
      "cell_type": "code",
      "source": [
        "bad_indexes = target <= 3"
      ],
      "metadata": {
        "id": "YgoXBElGWev3"
      },
      "execution_count": 125,
      "outputs": []
    },
    {
      "cell_type": "code",
      "source": [
        "bad_indexes.shape, bad_indexes.dtype, bad_indexes.sum()"
      ],
      "metadata": {
        "colab": {
          "base_uri": "https://localhost:8080/"
        },
        "id": "IzWc9KOlWqVe",
        "outputId": "d034055c-0c6b-4c16-ea7e-9984dd77cb63"
      },
      "execution_count": 126,
      "outputs": [
        {
          "output_type": "execute_result",
          "data": {
            "text/plain": [
              "(torch.Size([4898]), torch.bool, tensor(20))"
            ]
          },
          "metadata": {},
          "execution_count": 126
        }
      ]
    },
    {
      "cell_type": "code",
      "source": [
        "bad_data = data[bad_indexes]\n",
        "bad_data.shape"
      ],
      "metadata": {
        "colab": {
          "base_uri": "https://localhost:8080/"
        },
        "id": "W7m1k1WQWzft",
        "outputId": "97730dfe-c09c-4a38-c9ed-f5900b00a0ed"
      },
      "execution_count": 128,
      "outputs": [
        {
          "output_type": "execute_result",
          "data": {
            "text/plain": [
              "torch.Size([20, 11])"
            ]
          },
          "metadata": {},
          "execution_count": 128
        }
      ]
    },
    {
      "cell_type": "code",
      "source": [
        "mid_data  = data[(target > 3) & (target < 7)]\n",
        "good_data = data[target >= 7]"
      ],
      "metadata": {
        "id": "3oClDXmpW9gn"
      },
      "execution_count": 129,
      "outputs": []
    },
    {
      "cell_type": "code",
      "source": [
        "bad_mean = torch.mean(bad_data,dim=0)\n",
        "mid_mean = torch.mean(mid_data,dim=0)\n",
        "good_mean = torch.mean(good_data,dim=0)"
      ],
      "metadata": {
        "id": "LuRgb0s0XYi0"
      },
      "execution_count": 130,
      "outputs": []
    },
    {
      "cell_type": "code",
      "source": [
        "for i, args in enumerate(zip(col_list,bad_mean, mid_mean, good_mean)):\n",
        "  print('{:2} {:20} {:6.2f} {:6.2f} {:6.2f}'.format(i, *args))"
      ],
      "metadata": {
        "colab": {
          "base_uri": "https://localhost:8080/"
        },
        "id": "55LaiY7UX1QV",
        "outputId": "a2842a46-69aa-4a64-93e1-c784daca12f4"
      },
      "execution_count": 131,
      "outputs": [
        {
          "output_type": "stream",
          "name": "stdout",
          "text": [
            " 0 fixed acidity          7.60   6.89   6.73\n",
            " 1 volatile acidity       0.33   0.28   0.27\n",
            " 2 citric acid            0.34   0.34   0.33\n",
            " 3 residual sugar         6.39   6.71   5.26\n",
            " 4 chlorides              0.05   0.05   0.04\n",
            " 5 free sulfur dioxide   53.33  35.42  34.55\n",
            " 6 total sulfur dioxide 170.60 141.83 125.25\n",
            " 7 density                0.99   0.99   0.99\n",
            " 8 pH                     3.19   3.18   3.22\n",
            " 9 sulphates              0.47   0.49   0.50\n",
            "10 alcohol               10.34  10.26  11.42\n"
          ]
        }
      ]
    },
    {
      "cell_type": "markdown",
      "source": [
        "## Jane Austeen"
      ],
      "metadata": {
        "id": "3S5e3pmBZdx_"
      }
    },
    {
      "cell_type": "code",
      "source": [
        "!wget -o /dev/null https://raw.githubusercontent.com/deep-learning-with-pytorch/dlwpt-code/master/data/p1ch4/jane-austen/1342-0.txt"
      ],
      "metadata": {
        "id": "hjw05EOGYclf"
      },
      "execution_count": 133,
      "outputs": []
    },
    {
      "cell_type": "code",
      "source": [
        "with open('1342-0.txt') as f:\n",
        "  text = f.read()"
      ],
      "metadata": {
        "id": "YK0RKEIbZiFy"
      },
      "execution_count": 134,
      "outputs": []
    },
    {
      "cell_type": "code",
      "source": [
        "lines = text.split('\\n')\n",
        "line = lines[200]\n",
        "line"
      ],
      "metadata": {
        "colab": {
          "base_uri": "https://localhost:8080/",
          "height": 36
        },
        "id": "Ok7iEOCUZv4L",
        "outputId": "2af44fd8-05a0-4af8-dc91-806dc14089c4"
      },
      "execution_count": 135,
      "outputs": [
        {
          "output_type": "execute_result",
          "data": {
            "application/vnd.google.colaboratory.intrinsic+json": {
              "type": "string"
            },
            "text/plain": [
              "'“Impossible, Mr. Bennet, impossible, when I am not acquainted with him'"
            ]
          },
          "metadata": {},
          "execution_count": 135
        }
      ]
    },
    {
      "cell_type": "code",
      "source": [
        "letter_t = torch.zeros(len(line),128)\n",
        "letter_t.shape"
      ],
      "metadata": {
        "colab": {
          "base_uri": "https://localhost:8080/"
        },
        "id": "ZHQTQ_DsczjS",
        "outputId": "52226469-02de-4a2c-a8f9-082abc09cdb5"
      },
      "execution_count": 136,
      "outputs": [
        {
          "output_type": "execute_result",
          "data": {
            "text/plain": [
              "torch.Size([70, 128])"
            ]
          },
          "metadata": {},
          "execution_count": 136
        }
      ]
    },
    {
      "cell_type": "code",
      "source": [
        "for i, letter in enumerate(line.lower().strip()):\n",
        "  letter_index = ord(letter) if ord(letter) < 128 else 0 # only ASCII, higher will be made to point to 0\n",
        "  letter_t[i][letter_index] = 1"
      ],
      "metadata": {
        "id": "jxNOPJVkc_WN"
      },
      "execution_count": 137,
      "outputs": []
    },
    {
      "cell_type": "code",
      "source": [
        "def clean_words(input_str):\n",
        "  punctuation = '.,;:\"!?”“_-'\n",
        "  word_list = input_str.lower().replace('\\n',' ').split()\n",
        "  word_list = [word.strip(punctuation) for word in word_list]\n",
        "  return word_list"
      ],
      "metadata": {
        "id": "VviueN3GdV44"
      },
      "execution_count": 139,
      "outputs": []
    },
    {
      "cell_type": "code",
      "source": [
        "words_in_line = clean_words(line)\n",
        "line, words_in_line"
      ],
      "metadata": {
        "colab": {
          "base_uri": "https://localhost:8080/"
        },
        "id": "NH7_GeZurzIa",
        "outputId": "bfc21e0f-f17c-43d1-9a6a-c00c327134d8"
      },
      "execution_count": 140,
      "outputs": [
        {
          "output_type": "execute_result",
          "data": {
            "text/plain": [
              "('“Impossible, Mr. Bennet, impossible, when I am not acquainted with him',\n",
              " ['impossible',\n",
              "  'mr',\n",
              "  'bennet',\n",
              "  'impossible',\n",
              "  'when',\n",
              "  'i',\n",
              "  'am',\n",
              "  'not',\n",
              "  'acquainted',\n",
              "  'with',\n",
              "  'him'])"
            ]
          },
          "metadata": {},
          "execution_count": 140
        }
      ]
    },
    {
      "cell_type": "code",
      "source": [
        "word_list = sorted(set(clean_words(text)))\n",
        "word2index_dict = { word:i for (i,word) in enumerate(word_list)}"
      ],
      "metadata": {
        "id": "dSPEDN91sEKX"
      },
      "execution_count": 141,
      "outputs": []
    },
    {
      "cell_type": "code",
      "source": [
        "len(word2index_dict), word2index_dict['impossible']"
      ],
      "metadata": {
        "colab": {
          "base_uri": "https://localhost:8080/"
        },
        "id": "_fMuqO7vscq0",
        "outputId": "a65121c9-8001-4308-8d3f-4a4b6e7e2e47"
      },
      "execution_count": 142,
      "outputs": [
        {
          "output_type": "execute_result",
          "data": {
            "text/plain": [
              "(7261, 3394)"
            ]
          },
          "metadata": {},
          "execution_count": 142
        }
      ]
    },
    {
      "cell_type": "code",
      "source": [
        ""
      ],
      "metadata": {
        "id": "VPuP94gMtubt"
      },
      "execution_count": null,
      "outputs": []
    },
    {
      "cell_type": "code",
      "source": [
        "word_t = torch.zeros(len(words_in_line), len(word2index_dict))\n",
        "for i, word in enumerate(words_in_line):\n",
        "  word_index = word2index_dict[word]\n",
        "  word_t[i][word_index] = 1\n",
        "  print('{:2} {:4} {}'.format(i,word_index,word))\n",
        "\n",
        "print(word_t.shape)"
      ],
      "metadata": {
        "colab": {
          "base_uri": "https://localhost:8080/"
        },
        "id": "4SVWnq56soaG",
        "outputId": "408ab362-95d6-416c-b908-fa178d4b32b1"
      },
      "execution_count": 144,
      "outputs": [
        {
          "output_type": "stream",
          "name": "stdout",
          "text": [
            " 0 3394 impossible\n",
            " 1 4305 mr\n",
            " 2  813 bennet\n",
            " 3 3394 impossible\n",
            " 4 7078 when\n",
            " 5 3315 i\n",
            " 6  415 am\n",
            " 7 4436 not\n",
            " 8  239 acquainted\n",
            " 9 7148 with\n",
            "10 3215 him\n",
            "torch.Size([11, 7261])\n"
          ]
        }
      ]
    },
    {
      "cell_type": "markdown",
      "source": [
        "## Tehtäviä"
      ],
      "metadata": {
        "id": "Cfsl87t0gA3d"
      }
    },
    {
      "cell_type": "markdown",
      "source": [
        "### Kuvat"
      ],
      "metadata": {
        "id": "uYHLqHOImImM"
      }
    },
    {
      "cell_type": "code",
      "source": [
        "!wget -o /dev/null https://cdn.britannica.com/69/65969-050-8E4B0AB9/Orangutan.jpg\n",
        "!wget -o /dev/null https://files.worldwildlife.org/wwfcmsprod/images/Blue_Whale/hero_small/gex0x01aq_shutterstock_764499823.jpg -O whale.jpg"
      ],
      "metadata": {
        "id": "9CFV0Sf_gDfv"
      },
      "execution_count": 24,
      "outputs": []
    },
    {
      "cell_type": "code",
      "source": [
        "oranki_arr = imageio.imread('Orangutan.jpg')\n",
        "valas_arr = imageio.imread('whale.jpg')"
      ],
      "metadata": {
        "id": "lMlIKDJigdzj"
      },
      "execution_count": 25,
      "outputs": []
    },
    {
      "cell_type": "code",
      "source": [
        "oranki_arr.shape, valas_arr.shape"
      ],
      "metadata": {
        "colab": {
          "base_uri": "https://localhost:8080/"
        },
        "id": "LJBGqjy3hIHH",
        "outputId": "41624a1d-dc7e-4dfb-98fa-c19e99c69a26"
      },
      "execution_count": 26,
      "outputs": [
        {
          "output_type": "execute_result",
          "data": {
            "text/plain": [
              "((1530, 1600, 3), (480, 640, 3))"
            ]
          },
          "metadata": {},
          "execution_count": 26
        }
      ]
    },
    {
      "cell_type": "code",
      "source": [
        "oranki = torch.from_numpy(oranki_arr)\n",
        "valas = torch.from_numpy(valas_arr)"
      ],
      "metadata": {
        "id": "q58kvoRahOAZ"
      },
      "execution_count": 27,
      "outputs": []
    },
    {
      "cell_type": "code",
      "source": [
        "oranki = oranki.permute(2,0,1)\n",
        "valas = valas.permute(2,0,1)"
      ],
      "metadata": {
        "id": "dhOT0hifhYqp"
      },
      "execution_count": 28,
      "outputs": []
    },
    {
      "cell_type": "code",
      "source": [
        "oranki.shape, valas.shape"
      ],
      "metadata": {
        "colab": {
          "base_uri": "https://localhost:8080/"
        },
        "id": "eFMOdKovhcgP",
        "outputId": "8ceca860-687f-471c-e30a-7add47d606e4"
      },
      "execution_count": 29,
      "outputs": [
        {
          "output_type": "execute_result",
          "data": {
            "text/plain": [
              "(torch.Size([3, 1530, 1600]), torch.Size([3, 480, 640]))"
            ]
          },
          "metadata": {},
          "execution_count": 29
        }
      ]
    },
    {
      "cell_type": "code",
      "source": [
        "oranki.dtype, valas.dtype"
      ],
      "metadata": {
        "colab": {
          "base_uri": "https://localhost:8080/"
        },
        "id": "rGxa45HPhqV3",
        "outputId": "f0a68ea1-6bc1-4b15-b39a-9d0cff7612aa"
      },
      "execution_count": 30,
      "outputs": [
        {
          "output_type": "execute_result",
          "data": {
            "text/plain": [
              "(torch.uint8, torch.uint8)"
            ]
          },
          "metadata": {},
          "execution_count": 30
        }
      ]
    },
    {
      "cell_type": "code",
      "source": [
        "oranki = oranki.float()\n",
        "valas = valas.float()"
      ],
      "metadata": {
        "id": "bcMsrjzqhuos"
      },
      "execution_count": 31,
      "outputs": []
    },
    {
      "cell_type": "code",
      "source": [
        "oranki = oranki / 255.0\n",
        "valas = valas / 255.0"
      ],
      "metadata": {
        "id": "RnpF9SJNh1QI"
      },
      "execution_count": 32,
      "outputs": []
    },
    {
      "cell_type": "code",
      "source": [
        "oranki.mean(), oranki[0].mean(), oranki[1].mean(), oranki[2].mean()"
      ],
      "metadata": {
        "colab": {
          "base_uri": "https://localhost:8080/"
        },
        "id": "hBTXqwGaiKlK",
        "outputId": "596e4a07-f226-42af-ee69-f796d04e360b"
      },
      "execution_count": 23,
      "outputs": [
        {
          "output_type": "execute_result",
          "data": {
            "text/plain": [
              "(tensor(0.4460), tensor(0.5359), tensor(0.4684), tensor(0.3336))"
            ]
          },
          "metadata": {},
          "execution_count": 23
        }
      ]
    },
    {
      "cell_type": "code",
      "source": [
        "valas.mean(), valas[0].mean(), valas[1].mean(), valas[2].mean()"
      ],
      "metadata": {
        "colab": {
          "base_uri": "https://localhost:8080/"
        },
        "id": "68yVGEuNipO3",
        "outputId": "84dbf510-6c78-485b-fd55-c72f3936a2bb"
      },
      "execution_count": 33,
      "outputs": [
        {
          "output_type": "execute_result",
          "data": {
            "text/plain": [
              "(tensor(0.1247), tensor(0.0305), tensor(0.1267), tensor(0.2169))"
            ]
          },
          "metadata": {},
          "execution_count": 33
        }
      ]
    },
    {
      "cell_type": "code",
      "source": [
        ""
      ],
      "metadata": {
        "id": "VFNXzZ-7j5Zu"
      },
      "execution_count": null,
      "outputs": []
    },
    {
      "cell_type": "markdown",
      "source": [
        "### Teksti"
      ],
      "metadata": {
        "id": "WA85h77clvnJ"
      }
    },
    {
      "cell_type": "code",
      "source": [
        "import re"
      ],
      "metadata": {
        "id": "bgTio4Yjmwp9"
      },
      "execution_count": 38,
      "outputs": []
    },
    {
      "cell_type": "code",
      "source": [
        "!rm koodi.py"
      ],
      "metadata": {
        "id": "Tj_nDCHay6fA"
      },
      "execution_count": 71,
      "outputs": []
    },
    {
      "cell_type": "code",
      "source": [
        "!wget -o /dev/null https://raw.githubusercontent.com/OmkarPathak/Python-Programs/master/Programs/P75_TicTacToe.py -O koodi.py"
      ],
      "metadata": {
        "id": "GrOrFSUmlx4Z"
      },
      "execution_count": 72,
      "outputs": []
    },
    {
      "cell_type": "code",
      "source": [
        "with open('koodi.py') as f:\n",
        "  koodi = f.read()"
      ],
      "metadata": {
        "id": "qjhtUVGXl2N0"
      },
      "execution_count": 73,
      "outputs": []
    },
    {
      "cell_type": "markdown",
      "source": [
        "### ASCII to onehot"
      ],
      "metadata": {
        "id": "yxoheggi6Fhz"
      }
    },
    {
      "cell_type": "code",
      "source": [
        "koodi"
      ],
      "metadata": {
        "colab": {
          "base_uri": "https://localhost:8080/",
          "height": 127
        },
        "id": "xgK1YYSDmXD3",
        "outputId": "9f66c69e-6b98-42ed-8cee-48c6694d7bed"
      },
      "execution_count": 74,
      "outputs": [
        {
          "output_type": "execute_result",
          "data": {
            "application/vnd.google.colaboratory.intrinsic+json": {
              "type": "string"
            },
            "text/plain": [
              "\"# Author: OMKAR PATHAK\\n\\n# A simple example of tic tac toe game\\n\\n# For storing user choices\\nchoices = []\\n\\n# For initializing the board with numbers\\nfor i in range(0, 9):\\n    choices.append(str(i))\\n\\nfirstPlayer = True\\nwinner = False\\niterations = 0      # To terminate the loop\\n\\n# For drawing board on to the terminal\\ndef printBoard():\\n    print('\\\\n=============')\\n    print('| ' + choices[0] + ' | ' + choices[1] + ' | ' + choices[2] + ' |')\\n    print('=============')\\n    print('| ' + choices[3] + ' | ' + choices[4] + ' | ' + choices[5] + ' |')\\n    print('=============')\\n    print('| ' + choices[6] + ' | ' + choices[7] + ' | ' + choices[8] + ' |')\\n    print('=============\\\\n')\\n\\n# Play the game while the winner is not decided or the game is drawn\\nwhile not winner and iterations < 9:\\n    printBoard()\\n\\n    iterations += 1\\n\\n    if firstPlayer == True:\\n        print('Player 1: ', end = '')\\n    else:\\n        print('Player 2: ', end = '')\\n\\n    try:\\n        playerInput = int(input())\\n    except:\\n        print('Please enter a valid number from the board')\\n        continue\\n\\n    # Check if userInput already has 'X' or 'O'\\n    if choices[playerInput] == 'X' or choices[playerInput] == 'O':\\n        print('Illegal move, try again!')\\n        continue\\n\\n    if firstPlayer:\\n        choices[playerInput] = 'X'\\n    else:\\n        choices[playerInput] = 'O'\\n\\n    firstPlayer = not firstPlayer\\n\\n    # Winning conditions\\n    for index in range(0, 3):\\n        # For [0,1,2], [3,4,5], [6,7,8]\\n        if (choices[index * 3] == choices[((index * 3) + 1)] and choices[index * 3] == choices[((index * 3) + 2)]):\\n            winner = True\\n            printBoard()\\n\\n        # For [0,3,6], [1,4,7], [2,5,8]\\n        if(choices[index] == choices[index + 3] and choices[index + 3] == choices[index + 6]):\\n            winner = True\\n            printBoard()\\n\\n    if((choices[0] == choices[4] and choices[4] == choices[8]) or\\n      (choices[2] == choices[4] and choices[4] == choices[6])):\\n        winner = True\\n        printBoard()\\n\\nif winner:\\n    print('Player ' + str(int(firstPlayer + 1)) + ' wins!')\\nelse:\\n    print('Game drawn')\\n\""
            ]
          },
          "metadata": {},
          "execution_count": 74
        }
      ]
    },
    {
      "cell_type": "code",
      "source": [
        "rivit = koodi.split('\\n')\n",
        "len(rivit)"
      ],
      "metadata": {
        "colab": {
          "base_uri": "https://localhost:8080/"
        },
        "id": "d5XaQXipm7Ho",
        "outputId": "3cfd4cf4-9796-4ff8-a9b2-99210b7d0d52"
      },
      "execution_count": 75,
      "outputs": [
        {
          "output_type": "execute_result",
          "data": {
            "text/plain": [
              "76"
            ]
          },
          "metadata": {},
          "execution_count": 75
        }
      ]
    },
    {
      "cell_type": "code",
      "source": [
        "rivit = [re.sub(r'[^a-zA-Z0-9_]+',' ',item.strip()) for item in rivit] \n"
      ],
      "metadata": {
        "id": "cmV53Hr_mxpJ"
      },
      "execution_count": 79,
      "outputs": []
    },
    {
      "cell_type": "code",
      "source": [
        "rivi = rivit[50]\n",
        "rivi"
      ],
      "metadata": {
        "colab": {
          "base_uri": "https://localhost:8080/",
          "height": 36
        },
        "id": "NBe-FaKIoEMj",
        "outputId": "3307f42d-b47c-492b-bf94-9b8d437e91d9"
      },
      "execution_count": 80,
      "outputs": [
        {
          "output_type": "execute_result",
          "data": {
            "application/vnd.google.colaboratory.intrinsic+json": {
              "type": "string"
            },
            "text/plain": [
              "'choices playerInput O '"
            ]
          },
          "metadata": {},
          "execution_count": 80
        }
      ]
    },
    {
      "cell_type": "code",
      "source": [
        "kirjaimet = torch.zeros(len(rivi),128)\n",
        "kirjaimet.shape"
      ],
      "metadata": {
        "colab": {
          "base_uri": "https://localhost:8080/"
        },
        "id": "lHOnovOBoZnC",
        "outputId": "0917a7c2-dd54-4af9-b7eb-cd7c1b59a790"
      },
      "execution_count": 81,
      "outputs": [
        {
          "output_type": "execute_result",
          "data": {
            "text/plain": [
              "torch.Size([22, 128])"
            ]
          },
          "metadata": {},
          "execution_count": 81
        }
      ]
    },
    {
      "cell_type": "code",
      "source": [
        "for i, kirjain in enumerate(rivi.lower().strip()):\n",
        "  kirjain_index = ord(kirjain) if ord(kirjain) < 128 else 0\n",
        "  kirjaimet[i][kirjain_index] = 1"
      ],
      "metadata": {
        "id": "c_AodIS1pef1"
      },
      "execution_count": 82,
      "outputs": []
    },
    {
      "cell_type": "code",
      "source": [
        "kirjaimet[1]"
      ],
      "metadata": {
        "colab": {
          "base_uri": "https://localhost:8080/"
        },
        "id": "JSbZ9oAQrh0Z",
        "outputId": "0586815b-ef61-49ab-a548-c8eff9342e49"
      },
      "execution_count": 83,
      "outputs": [
        {
          "output_type": "execute_result",
          "data": {
            "text/plain": [
              "tensor([0., 0., 0., 0., 0., 0., 0., 0., 0., 0., 0., 0., 0., 0., 0., 0., 0., 0.,\n",
              "        0., 0., 0., 0., 0., 0., 0., 0., 0., 0., 0., 0., 0., 0., 0., 0., 0., 0.,\n",
              "        0., 0., 0., 0., 0., 0., 0., 0., 0., 0., 0., 0., 0., 0., 0., 0., 0., 0.,\n",
              "        0., 0., 0., 0., 0., 0., 0., 0., 0., 0., 0., 0., 0., 0., 0., 0., 0., 0.,\n",
              "        0., 0., 0., 0., 0., 0., 0., 0., 0., 0., 0., 0., 0., 0., 0., 0., 0., 0.,\n",
              "        0., 0., 0., 0., 0., 0., 0., 0., 0., 0., 0., 0., 0., 0., 1., 0., 0., 0.,\n",
              "        0., 0., 0., 0., 0., 0., 0., 0., 0., 0., 0., 0., 0., 0., 0., 0., 0., 0.,\n",
              "        0., 0.])"
            ]
          },
          "metadata": {},
          "execution_count": 83
        }
      ]
    },
    {
      "cell_type": "code",
      "source": [
        "maxi = len(rivit[0])\n",
        "for r in rivit:\n",
        "  if len(r) > maxi:\n",
        "    maxi = len(r)\n",
        "maxi"
      ],
      "metadata": {
        "colab": {
          "base_uri": "https://localhost:8080/"
        },
        "id": "EUJfBgyiz1Qv",
        "outputId": "3e0f515d-af63-4fd0-84a7-66b35f8aa43d"
      },
      "execution_count": 88,
      "outputs": [
        {
          "output_type": "execute_result",
          "data": {
            "text/plain": [
              "75"
            ]
          },
          "metadata": {},
          "execution_count": 88
        }
      ]
    },
    {
      "cell_type": "code",
      "source": [
        "kaikki_rivit_onehot = torch.zeros(len(rivit),maxi,128)"
      ],
      "metadata": {
        "id": "CJyhv1GNzq_F"
      },
      "execution_count": 89,
      "outputs": []
    },
    {
      "cell_type": "code",
      "source": [
        "for rivi_i,rivi in enumerate(rivit):\n",
        "  for kirjain_rivi, kirjain in enumerate(rivi.lower().strip()):\n",
        "    kirjain_index = ord(kirjain) if ord(kirjain) < 128 else 0\n",
        "    kaikki_rivit_onehot[rivi_i][kirjain_rivi][kirjain_index] = 1"
      ],
      "metadata": {
        "id": "n0E31reRqgl8"
      },
      "execution_count": 90,
      "outputs": []
    },
    {
      "cell_type": "code",
      "source": [
        "kaikki_rivit_onehot.shape"
      ],
      "metadata": {
        "colab": {
          "base_uri": "https://localhost:8080/"
        },
        "id": "8vqk2WpUqjY-",
        "outputId": "4819db02-0353-46e3-a5c4-79be0e4ddecc"
      },
      "execution_count": 92,
      "outputs": [
        {
          "output_type": "execute_result",
          "data": {
            "text/plain": [
              "torch.Size([76, 75, 128])"
            ]
          },
          "metadata": {},
          "execution_count": 92
        }
      ]
    },
    {
      "cell_type": "code",
      "source": [
        "kaikki_rivit_onehot[23].shape"
      ],
      "metadata": {
        "colab": {
          "base_uri": "https://localhost:8080/"
        },
        "id": "j6vZHYTl3tMd",
        "outputId": "c274723e-d5db-4426-9626-171f453bb708"
      },
      "execution_count": 105,
      "outputs": [
        {
          "output_type": "execute_result",
          "data": {
            "text/plain": [
              "torch.Size([75, 128])"
            ]
          },
          "metadata": {},
          "execution_count": 105
        }
      ]
    },
    {
      "cell_type": "code",
      "source": [
        "ascii = torch.argmax(kaikki_rivit_onehot[23][0]).item()\n",
        "chr(ascii)"
      ],
      "metadata": {
        "colab": {
          "base_uri": "https://localhost:8080/",
          "height": 36
        },
        "id": "v3UqQ2Qy2ZnX",
        "outputId": "a65ee964-083d-4788-d134-403f2d4fe710"
      },
      "execution_count": 103,
      "outputs": [
        {
          "output_type": "execute_result",
          "data": {
            "application/vnd.google.colaboratory.intrinsic+json": {
              "type": "string"
            },
            "text/plain": [
              "'p'"
            ]
          },
          "metadata": {},
          "execution_count": 103
        }
      ]
    },
    {
      "cell_type": "markdown",
      "source": [
        "### From one-hot to ascii"
      ],
      "metadata": {
        "id": "_Ob1TiRI59gQ"
      }
    },
    {
      "cell_type": "code",
      "source": [
        "rivi_merkkeina = \"\"\n",
        "\n",
        "for rivi in kaikki_rivit_onehot:\n",
        "  for lause in rivi:\n",
        "    ascii = torch.argmax(lause).item()\n",
        "    if ascii != 0: \n",
        "      rivi_merkkeina += chr(torch.argmax(lause).item())\n",
        "  rivi_merkkeina += \"\\n\"\n",
        "\n",
        "print(rivi_merkkeina)"
      ],
      "metadata": {
        "colab": {
          "base_uri": "https://localhost:8080/"
        },
        "id": "7seW4zMF1Lt8",
        "outputId": "6db953ad-c24d-4537-c1c5-c9f97a4cb038"
      },
      "execution_count": 117,
      "outputs": [
        {
          "output_type": "stream",
          "name": "stdout",
          "text": [
            "author omkar pathak\n",
            "\n",
            "a simple example of tic tac toe game\n",
            "\n",
            "for storing user choices\n",
            "choices\n",
            "\n",
            "for initializing the board with numbers\n",
            "for i in range 0 9\n",
            "choices append str i\n",
            "\n",
            "firstplayer true\n",
            "winner false\n",
            "iterations 0 to terminate the loop\n",
            "\n",
            "for drawing board on to the terminal\n",
            "def printboard\n",
            "print n\n",
            "print choices 0 choices 1 choices 2\n",
            "print\n",
            "print choices 3 choices 4 choices 5\n",
            "print\n",
            "print choices 6 choices 7 choices 8\n",
            "print n\n",
            "\n",
            "play the game while the winner is not decided or the game is drawn\n",
            "while not winner and iterations 9\n",
            "printboard\n",
            "\n",
            "iterations 1\n",
            "\n",
            "if firstplayer true\n",
            "print player 1 end\n",
            "else\n",
            "print player 2 end\n",
            "\n",
            "try\n",
            "playerinput int input\n",
            "except\n",
            "print please enter a valid number from the board\n",
            "continue\n",
            "\n",
            "check if userinput already has x or o\n",
            "if choices playerinput x or choices playerinput o\n",
            "print illegal move try again\n",
            "continue\n",
            "\n",
            "if firstplayer\n",
            "choices playerinput x\n",
            "else\n",
            "choices playerinput o\n",
            "\n",
            "firstplayer not firstplayer\n",
            "\n",
            "winning conditions\n",
            "for index in range 0 3\n",
            "for 0 1 2 3 4 5 6 7 8\n",
            "if choices index 3 choices index 3 1 and choices index 3 choices index 3 2\n",
            "winner true\n",
            "printboard\n",
            "\n",
            "for 0 3 6 1 4 7 2 5 8\n",
            "if choices index choices index 3 and choices index 3 choices index 6\n",
            "winner true\n",
            "printboard\n",
            "\n",
            "if choices 0 choices 4 and choices 4 choices 8 or\n",
            "choices 2 choices 4 and choices 4 choices 6\n",
            "winner true\n",
            "printboard\n",
            "\n",
            "if winner\n",
            "print player str int firstplayer 1 wins\n",
            "else\n",
            "print game drawn\n",
            "\n",
            "\n"
          ]
        }
      ]
    },
    {
      "cell_type": "code",
      "source": [
        "rivit"
      ],
      "metadata": {
        "colab": {
          "base_uri": "https://localhost:8080/"
        },
        "id": "QArf6y121vQA",
        "outputId": "7a8ff5a0-f88b-4197-9bc9-741fe35348c5"
      },
      "execution_count": 118,
      "outputs": [
        {
          "output_type": "execute_result",
          "data": {
            "text/plain": [
              "[' Author OMKAR PATHAK',\n",
              " '',\n",
              " ' A simple example of tic tac toe game',\n",
              " '',\n",
              " ' For storing user choices',\n",
              " 'choices ',\n",
              " '',\n",
              " ' For initializing the board with numbers',\n",
              " 'for i in range 0 9 ',\n",
              " 'choices append str i ',\n",
              " '',\n",
              " 'firstPlayer True',\n",
              " 'winner False',\n",
              " 'iterations 0 To terminate the loop',\n",
              " '',\n",
              " ' For drawing board on to the terminal',\n",
              " 'def printBoard ',\n",
              " 'print n ',\n",
              " 'print choices 0 choices 1 choices 2 ',\n",
              " 'print ',\n",
              " 'print choices 3 choices 4 choices 5 ',\n",
              " 'print ',\n",
              " 'print choices 6 choices 7 choices 8 ',\n",
              " 'print n ',\n",
              " '',\n",
              " ' Play the game while the winner is not decided or the game is drawn',\n",
              " 'while not winner and iterations 9 ',\n",
              " 'printBoard ',\n",
              " '',\n",
              " 'iterations 1',\n",
              " '',\n",
              " 'if firstPlayer True ',\n",
              " 'print Player 1 end ',\n",
              " 'else ',\n",
              " 'print Player 2 end ',\n",
              " '',\n",
              " 'try ',\n",
              " 'playerInput int input ',\n",
              " 'except ',\n",
              " 'print Please enter a valid number from the board ',\n",
              " 'continue',\n",
              " '',\n",
              " ' Check if userInput already has X or O ',\n",
              " 'if choices playerInput X or choices playerInput O ',\n",
              " 'print Illegal move try again ',\n",
              " 'continue',\n",
              " '',\n",
              " 'if firstPlayer ',\n",
              " 'choices playerInput X ',\n",
              " 'else ',\n",
              " 'choices playerInput O ',\n",
              " '',\n",
              " 'firstPlayer not firstPlayer',\n",
              " '',\n",
              " ' Winning conditions',\n",
              " 'for index in range 0 3 ',\n",
              " ' For 0 1 2 3 4 5 6 7 8 ',\n",
              " 'if choices index 3 choices index 3 1 and choices index 3 choices index 3 2 ',\n",
              " 'winner True',\n",
              " 'printBoard ',\n",
              " '',\n",
              " ' For 0 3 6 1 4 7 2 5 8 ',\n",
              " 'if choices index choices index 3 and choices index 3 choices index 6 ',\n",
              " 'winner True',\n",
              " 'printBoard ',\n",
              " '',\n",
              " 'if choices 0 choices 4 and choices 4 choices 8 or',\n",
              " ' choices 2 choices 4 and choices 4 choices 6 ',\n",
              " 'winner True',\n",
              " 'printBoard ',\n",
              " '',\n",
              " 'if winner ',\n",
              " 'print Player str int firstPlayer 1 wins ',\n",
              " 'else ',\n",
              " 'print Game drawn ',\n",
              " '']"
            ]
          },
          "metadata": {},
          "execution_count": 118
        }
      ]
    },
    {
      "cell_type": "code",
      "source": [
        ""
      ],
      "metadata": {
        "id": "cb8oVTt84F4D"
      },
      "execution_count": null,
      "outputs": []
    }
  ]
}